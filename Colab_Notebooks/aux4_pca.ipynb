{
  "nbformat": 4,
  "nbformat_minor": 0,
  "metadata": {
    "anaconda-cloud": {},
    "kernelspec": {
      "display_name": "Python [conda root]",
      "language": "python",
      "name": "conda-root-py"
    },
    "language_info": {
      "codemirror_mode": {
        "name": "ipython",
        "version": 3
      },
      "file_extension": ".py",
      "mimetype": "text/x-python",
      "name": "python",
      "nbconvert_exporter": "python",
      "pygments_lexer": "ipython3",
      "version": "3.5.2"
    },
    "colab": {
      "name": "aux4_pca.ipynb",
      "provenance": [],
      "include_colab_link": true
    }
  },
  "cells": [
    {
      "cell_type": "markdown",
      "metadata": {
        "id": "view-in-github",
        "colab_type": "text"
      },
      "source": [
        "<a href=\"https://colab.research.google.com/github/pachterlab/bibecs183/blob/master/Colab_Notebooks/aux4_pca.ipynb\" target=\"_parent\"><img src=\"https://colab.research.google.com/assets/colab-badge.svg\" alt=\"Open In Colab\"/></a>"
      ]
    },
    {
      "cell_type": "markdown",
      "metadata": {
        "id": "mbTg4prffGCZ",
        "colab_type": "text"
      },
      "source": [
        "# Auxiliary tutorial 4: Principal Component Analysis\n",
        "\n",
        "(c) 2016 Heidi Klumpe and Manuel Razo. This work is licensed under a [Creative Commons Attribution License CC-BY 4.0](https://creativecommons.org/licenses/by/4.0/). All code contained therein is licensed under an [MIT license](https://opensource.org/licenses/MIT).\n",
        "\n",
        "*This tutorial was generated from a Jupyter notebook.  You can download the notebook [here](aux4_pca.ipynb).*"
      ]
    },
    {
      "cell_type": "code",
      "metadata": {
        "id": "B1MYTohJfhVT",
        "colab_type": "code",
        "colab": {
          "base_uri": "https://localhost:8080/",
          "height": 585
        },
        "outputId": "be88ad5a-6f13-416f-e32f-47408277a9d8"
      },
      "source": [
        "!pip install bebi103"
      ],
      "execution_count": 71,
      "outputs": [
        {
          "output_type": "stream",
          "text": [
            "Requirement already satisfied: bebi103 in /usr/local/lib/python3.6/dist-packages (0.0.49)\n",
            "Requirement already satisfied: xarray in /usr/local/lib/python3.6/dist-packages (from bebi103) (0.14.1)\n",
            "Requirement already satisfied: cmdstanpy in /usr/local/lib/python3.6/dist-packages (from bebi103) (0.8.0)\n",
            "Requirement already satisfied: numba in /usr/local/lib/python3.6/dist-packages (from bebi103) (0.47.0)\n",
            "Requirement already satisfied: bokeh in /usr/local/lib/python3.6/dist-packages (from bebi103) (1.4.0)\n",
            "Requirement already satisfied: matplotlib in /usr/local/lib/python3.6/dist-packages (from bebi103) (3.1.2)\n",
            "Requirement already satisfied: arviz in /usr/local/lib/python3.6/dist-packages (from bebi103) (0.6.1)\n",
            "Requirement already satisfied: holoviews in /usr/local/lib/python3.6/dist-packages (from bebi103) (1.12.7)\n",
            "Requirement already satisfied: scipy in /usr/local/lib/python3.6/dist-packages (from bebi103) (1.4.1)\n",
            "Requirement already satisfied: numpy in /usr/local/lib/python3.6/dist-packages (from bebi103) (1.17.5)\n",
            "Requirement already satisfied: pandas in /usr/local/lib/python3.6/dist-packages (from bebi103) (0.25.3)\n",
            "Requirement already satisfied: colorcet in /usr/local/lib/python3.6/dist-packages (from bebi103) (2.0.2)\n",
            "Requirement already satisfied: tqdm in /usr/local/lib/python3.6/dist-packages (from bebi103) (4.28.1)\n",
            "Requirement already satisfied: llvmlite>=0.31.0dev0 in /usr/local/lib/python3.6/dist-packages (from numba->bebi103) (0.31.0)\n",
            "Requirement already satisfied: setuptools in /usr/local/lib/python3.6/dist-packages (from numba->bebi103) (42.0.2)\n",
            "Requirement already satisfied: python-dateutil>=2.1 in /usr/local/lib/python3.6/dist-packages (from bokeh->bebi103) (2.6.1)\n",
            "Requirement already satisfied: Jinja2>=2.7 in /usr/local/lib/python3.6/dist-packages (from bokeh->bebi103) (2.10.3)\n",
            "Requirement already satisfied: tornado>=4.3 in /usr/local/lib/python3.6/dist-packages (from bokeh->bebi103) (4.5.3)\n",
            "Requirement already satisfied: pillow>=4.0 in /usr/local/lib/python3.6/dist-packages (from bokeh->bebi103) (6.2.2)\n",
            "Requirement already satisfied: six>=1.5.2 in /usr/local/lib/python3.6/dist-packages (from bokeh->bebi103) (1.12.0)\n",
            "Requirement already satisfied: PyYAML>=3.10 in /usr/local/lib/python3.6/dist-packages (from bokeh->bebi103) (3.13)\n",
            "Requirement already satisfied: packaging>=16.8 in /usr/local/lib/python3.6/dist-packages (from bokeh->bebi103) (20.0)\n",
            "Requirement already satisfied: pyparsing!=2.0.4,!=2.1.2,!=2.1.6,>=2.0.1 in /usr/local/lib/python3.6/dist-packages (from matplotlib->bebi103) (2.4.6)\n",
            "Requirement already satisfied: cycler>=0.10 in /usr/local/lib/python3.6/dist-packages (from matplotlib->bebi103) (0.10.0)\n",
            "Requirement already satisfied: kiwisolver>=1.0.1 in /usr/local/lib/python3.6/dist-packages (from matplotlib->bebi103) (1.1.0)\n",
            "Requirement already satisfied: netcdf4 in /usr/local/lib/python3.6/dist-packages (from arviz->bebi103) (1.5.3)\n",
            "Requirement already satisfied: pyviz-comms>=0.7.2 in /usr/local/lib/python3.6/dist-packages (from holoviews->bebi103) (0.7.3)\n",
            "Requirement already satisfied: param<2.0,>=1.8.0 in /usr/local/lib/python3.6/dist-packages (from holoviews->bebi103) (1.9.2)\n",
            "Requirement already satisfied: pytz>=2017.2 in /usr/local/lib/python3.6/dist-packages (from pandas->bebi103) (2018.9)\n",
            "Requirement already satisfied: pyct>=0.4.4 in /usr/local/lib/python3.6/dist-packages (from colorcet->bebi103) (0.4.6)\n",
            "Requirement already satisfied: MarkupSafe>=0.23 in /usr/local/lib/python3.6/dist-packages (from Jinja2>=2.7->bokeh->bebi103) (1.1.1)\n",
            "Requirement already satisfied: cftime in /usr/local/lib/python3.6/dist-packages (from netcdf4->arviz->bebi103) (1.0.4.2)\n"
          ],
          "name": "stdout"
        }
      ]
    },
    {
      "cell_type": "code",
      "metadata": {
        "id": "g_k-JZlHfGCb",
        "colab_type": "code",
        "colab": {}
      },
      "source": [
        "import numpy as np\n",
        "import numba\n",
        "import pandas as pd\n",
        "import scipy.special\n",
        "import scipy.stats as st\n",
        "\n",
        "# Package to perform PCA\n",
        "import sklearn.datasets\n",
        "import sklearn.decomposition\n",
        "\n",
        "# BE/Bi 103 Utilities from Justin\n",
        "import bebi103\n",
        "\n",
        "import matplotlib.pyplot as plt\n",
        "import mpl_toolkits.mplot3d\n",
        "import seaborn as sns\n",
        "rc={'lines.linewidth': 2, 'axes.labelsize': 14, 'axes.titlesize': 14}\n",
        "sns.set(rc=rc)\n",
        "\n",
        "# Make Matplotlib plots appear inline\n",
        "%matplotlib inline\n",
        "\n",
        "import bokeh\n",
        "bokeh.io.output_notebook()"
      ],
      "execution_count": 0,
      "outputs": []
    },
    {
      "cell_type": "markdown",
      "metadata": {
        "id": "loIEKHAbfGCh",
        "colab_type": "text"
      },
      "source": [
        "#### Overview\n",
        "\n",
        "1. Principal component analysis (PCA) summarizes a multi-dimensional dataset with fewer dimensions, while still preserving important underlying structure. Stated differently, it removes smaller, high-order correlations in the hopes of revealing the larger (and presumably more important) first-order variations.\n",
        "2. We can implement PCA in two ways: using the eigenvectors of the covariance matrix or with packages from `scikit-learn`.\n",
        "3. We need to be careful about choosing to use PCA as a visual heuristic or statistical tool, whether we're analyzing our own data or reading about someone else's."
      ]
    },
    {
      "cell_type": "markdown",
      "metadata": {
        "id": "5wehD5nrfGCi",
        "colab_type": "text"
      },
      "source": [
        "## Using PCA in the biological sciences\n",
        "\n",
        "Biological datasets, thanks to technological advances and the suffix \"-omics,\" are high-dimensional. We can record information about every gene, protein, or brain voxel, but then would like to isolate the most descriptive (or maybe predictive) features of those measurements. Ideally, we could remove apparent redundancies or unimportant features, and so be able to focus on the underlying structure that remains. For this reason, we often want to reduce the dimensionality of the data, i.e. summarize it with a smaller number of features. \n",
        "\n",
        "PCA, invented by Karl Pearson [in 1901](http://stat.smmu.edu.cn/history/pearson1901.pdf), provides a way to do just that! Given a dataset with $p$ dimensions (where each dimension could be the measurement of a single gene, or cytokine, or SNP), we can project all observations into a set of $k$ new dimensions, which end up being linear combinations of the original dimensions. Though some information is \"lost\" in this reduction, PCA preserves the maximal variation in those new dimensions. So projecting data onto its principal components removes the potentially superficial distinctions of the extra dimensions whilst highlighting important differences. To get a more intuitive idea of how this works, try clicking around in these [interactive plots](http://setosa.io/ev/principal-component-analysis/).\n",
        "\n",
        "PCA has been used in many interesting ways. One 2-D rendering of SNPs [regenerated the geography of Europe](http://www.nature.com/nature/journal/v456/n7218/fig_tab/nature07331_F1.html). Other examples include [classifying different soft tissue tumors](http://www.sciencedirect.com/science/article/pii/S0140673602082703); [visualizing gene oscillations](http://www.pnas.org/content/103/44/16254.full) and subsequently intuiting [genetic networks](http://www.pnas.org/content/97/15/8409.full); and [removing noise from genetic data](http://www.pnas.org/content/97/18/10101.full)."
      ]
    },
    {
      "cell_type": "markdown",
      "metadata": {
        "id": "dAwatOpWfGCj",
        "colab_type": "text"
      },
      "source": [
        "## Using PCA in Python\n",
        "\n",
        "We will perform PCA two ways. First, with techniques from linear algebra, to get an idea of what we are doing. Second, with packages from `scikit-learn`, which allow us to do PCA in a single line!"
      ]
    },
    {
      "cell_type": "markdown",
      "metadata": {
        "id": "ez3hQdo2fGCk",
        "colab_type": "text"
      },
      "source": [
        "### With techniques from linear algebra\n",
        "\n",
        "This [blog post](http://sebastianraschka.com/Articles/2015_pca_in_3_steps.html) by Sebastian Raschka provides a clean and useful overview of our approach to PCA. This is what we will implement in the following lines to reduce our data to $k$ dimensions:\n",
        "\n",
        "1. Standardize the data. (To make quantitative comparisons of variance, we want to be sure each measurement varies to a similar extent; more on this later.)\n",
        "2. Compute the covariance matrix and use eigenvalue decomposition to obtain the eigenvectors and eigenvalues.\n",
        "3. Select the $k$ largest eigenvalues and their associated eigenvectors.\n",
        "4. Transform the data into a $k$ dimensional subspace using those $k$ eigenvectors.\n",
        "\n",
        "Let's give it a try!"
      ]
    },
    {
      "cell_type": "markdown",
      "metadata": {
        "id": "r-AgPOswfGCm",
        "colab_type": "text"
      },
      "source": [
        "#### The famous iris data set\n",
        "\n",
        "We will use one of the most famous datasets available online. This data set, collected by Edgar Anderson and popularized by the one and only [Ronald Fisher](https://en.wikipedia.org/wiki/Ronald_Fisher), contains the petal and sepal length and width in three different species of Iris (*Iris setosa*, *Iris virginica* and *Iris versicolor*). \n",
        "\n",
        "This data set is popular enough to have its own [Wikipedia entry](https://en.wikipedia.org/wiki/Iris_flower_data_set), and you can import it with [seaborn](http://stanford.edu/~mwaskom/software/seaborn/generated/seaborn.pairplot.html?highlight=iris), [scikit-learn](http://scikit-learn.org/stable/modules/generated/sklearn.datasets.load_iris.html), or even pandas using\n",
        "\n",
        "    url = 'https://archive.ics.uci.edu/ml/machine-learning-databases/iris/iris.data'\n",
        "    df = pd.read_csv(filepath_or_buffer=url, header=None, sep=',')\n",
        "\n",
        "For this tutorial, we will import it using `scikit-learn` and transform it into a tidy data frame."
      ]
    },
    {
      "cell_type": "code",
      "metadata": {
        "id": "YmRsW0vtfGCn",
        "colab_type": "code",
        "colab": {
          "base_uri": "https://localhost:8080/",
          "height": 197
        },
        "outputId": "c8acfcf1-a2ef-472e-ed2d-cbebe7417370"
      },
      "source": [
        "# Import the Iris dataset and convert it into a Pandas DataFrame\n",
        "iris = sklearn.datasets.load_iris()\n",
        "\n",
        "# Uncomment if you want to print the dataset description\n",
        "# print(iris.DESCR)\n",
        "\n",
        "# Make a DataFrame with a species column\n",
        "df_iris = pd.DataFrame(iris.data, columns=iris.feature_names)\n",
        "df_iris['species'] = iris.target_names[iris.target]\n",
        "\n",
        "# Take a look at df_iris\n",
        "df_iris.head()"
      ],
      "execution_count": 73,
      "outputs": [
        {
          "output_type": "execute_result",
          "data": {
            "text/html": [
              "<div>\n",
              "<style scoped>\n",
              "    .dataframe tbody tr th:only-of-type {\n",
              "        vertical-align: middle;\n",
              "    }\n",
              "\n",
              "    .dataframe tbody tr th {\n",
              "        vertical-align: top;\n",
              "    }\n",
              "\n",
              "    .dataframe thead th {\n",
              "        text-align: right;\n",
              "    }\n",
              "</style>\n",
              "<table border=\"1\" class=\"dataframe\">\n",
              "  <thead>\n",
              "    <tr style=\"text-align: right;\">\n",
              "      <th></th>\n",
              "      <th>sepal length (cm)</th>\n",
              "      <th>sepal width (cm)</th>\n",
              "      <th>petal length (cm)</th>\n",
              "      <th>petal width (cm)</th>\n",
              "      <th>species</th>\n",
              "    </tr>\n",
              "  </thead>\n",
              "  <tbody>\n",
              "    <tr>\n",
              "      <th>0</th>\n",
              "      <td>5.1</td>\n",
              "      <td>3.5</td>\n",
              "      <td>1.4</td>\n",
              "      <td>0.2</td>\n",
              "      <td>setosa</td>\n",
              "    </tr>\n",
              "    <tr>\n",
              "      <th>1</th>\n",
              "      <td>4.9</td>\n",
              "      <td>3.0</td>\n",
              "      <td>1.4</td>\n",
              "      <td>0.2</td>\n",
              "      <td>setosa</td>\n",
              "    </tr>\n",
              "    <tr>\n",
              "      <th>2</th>\n",
              "      <td>4.7</td>\n",
              "      <td>3.2</td>\n",
              "      <td>1.3</td>\n",
              "      <td>0.2</td>\n",
              "      <td>setosa</td>\n",
              "    </tr>\n",
              "    <tr>\n",
              "      <th>3</th>\n",
              "      <td>4.6</td>\n",
              "      <td>3.1</td>\n",
              "      <td>1.5</td>\n",
              "      <td>0.2</td>\n",
              "      <td>setosa</td>\n",
              "    </tr>\n",
              "    <tr>\n",
              "      <th>4</th>\n",
              "      <td>5.0</td>\n",
              "      <td>3.6</td>\n",
              "      <td>1.4</td>\n",
              "      <td>0.2</td>\n",
              "      <td>setosa</td>\n",
              "    </tr>\n",
              "  </tbody>\n",
              "</table>\n",
              "</div>"
            ],
            "text/plain": [
              "   sepal length (cm)  sepal width (cm)  ...  petal width (cm)  species\n",
              "0                5.1               3.5  ...               0.2   setosa\n",
              "1                4.9               3.0  ...               0.2   setosa\n",
              "2                4.7               3.2  ...               0.2   setosa\n",
              "3                4.6               3.1  ...               0.2   setosa\n",
              "4                5.0               3.6  ...               0.2   setosa\n",
              "\n",
              "[5 rows x 5 columns]"
            ]
          },
          "metadata": {
            "tags": []
          },
          "execution_count": 73
        }
      ]
    },
    {
      "cell_type": "markdown",
      "metadata": {
        "id": "ZFw8ursrfGCq",
        "colab_type": "text"
      },
      "source": [
        "We can plot pairwise comparisons using Seaborn's `pairplot()` function to see if there are striking correlations between any two features of the iris data set. If any two features are highly correlated, we may assume we can summarize those two features with a single axis (i.e. \"new\" feature) that includes both."
      ]
    },
    {
      "cell_type": "code",
      "metadata": {
        "id": "VZvHRtNVfGCs",
        "colab_type": "code",
        "colab": {
          "base_uri": "https://localhost:8080/",
          "height": 724
        },
        "outputId": "062749cd-dc42-40cf-e837-845ddf282c3c"
      },
      "source": [
        "# Plot pairwise comparison to explore the data\n",
        "_ = sns.pairplot(df_iris, hue='species')"
      ],
      "execution_count": 74,
      "outputs": [
        {
          "output_type": "display_data",
          "data": {
            "image/png": "[encoded data removed]",
            "text/plain": [
              "<Figure size 813.85x720 with 20 Axes>"
            ]
          },
          "metadata": {
            "tags": []
          }
        }
      ]
    },
    {
      "cell_type": "markdown",
      "metadata": {
        "id": "p57HokclfGCw",
        "colab_type": "text"
      },
      "source": [
        "Right away from this plot we can notice that *versicolor* and *virginica* are more similar to each other than to *setosa*.  There is also a strong correlation between *petal length* and *petal width*. We can use this to explain the concept behind PCA. So, let's focus on these two parameters."
      ]
    },
    {
      "cell_type": "code",
      "metadata": {
        "id": "daX477hKfGCx",
        "colab_type": "code",
        "colab": {
          "base_uri": "https://localhost:8080/",
          "height": 285
        },
        "outputId": "463daea6-3623-4685-c2e7-b7f2f0d68bb0"
      },
      "source": [
        "# Compute the mean\n",
        "m = np.array([df_iris['petal length (cm)'].mean(), \n",
        "              df_iris['petal width (cm)'].mean()])\n",
        "\n",
        "# Plot petal length vs petal width only\n",
        "for key, group in df_iris.groupby(['species']):\n",
        "    plt.plot(group['petal length (cm)'], group['petal width (cm)'],\n",
        "               label=key, marker='.', linestyle='none')\n",
        "\n",
        "# Add the mean value to the plot\n",
        "plt.plot(m[0], m[1], marker='*', color='black', markersize=15,\n",
        "         linestyle='none', label='mean')\n",
        "\n",
        "plt.legend(loc=0)\n",
        "plt.margins(0.02)\n",
        "plt.xlabel('petal length (cm)')\n",
        "plt.ylabel('petal width (cm)');"
      ],
      "execution_count": 75,
      "outputs": [
        {
          "output_type": "display_data",
          "data": {
            "image/png": "[encoded data removed]",
            "text/plain": [
              "<Figure size 432x288 with 1 Axes>"
            ]
          },
          "metadata": {
            "tags": []
          }
        }
      ]
    },
    {
      "cell_type": "markdown",
      "metadata": {
        "id": "mBbOEdAkfGC1",
        "colab_type": "text"
      },
      "source": [
        "Now, we do \"manual\" PCA (or \"Manuel\" PCA, as he coded this approach first). Our goal will be to reduce our 2-D data to 1-D. Note that by taking the mean, we already reduced it 0-D in a sense.\n",
        "\n",
        "**1) Standardize the data.**\n",
        "Because our plot labels have units, we know the two dimensions we're considering are both measured in centimeters, and so have similar scale. But they're different distances from zero! We'll center all measurements at the same point, the mean."
      ]
    },
    {
      "cell_type": "code",
      "metadata": {
        "id": "zjjfXrwtfGC3",
        "colab_type": "code",
        "colab": {
          "base_uri": "https://localhost:8080/",
          "height": 197
        },
        "outputId": "5f658fdc-2ab3-4c72-8426-991949ccf2b9"
      },
      "source": [
        "# Substract the mean from the measurements.\n",
        "df_centered = df_iris.loc[:, ['petal length (cm)', 'petal width (cm)']]\n",
        "for col in df_centered.columns:\n",
        "    df_centered[col] -= df_centered[col].mean()\n",
        "\n",
        "# Take a look\n",
        "df_centered.head()"
      ],
      "execution_count": 76,
      "outputs": [
        {
          "output_type": "execute_result",
          "data": {
            "text/html": [
              "<div>\n",
              "<style scoped>\n",
              "    .dataframe tbody tr th:only-of-type {\n",
              "        vertical-align: middle;\n",
              "    }\n",
              "\n",
              "    .dataframe tbody tr th {\n",
              "        vertical-align: top;\n",
              "    }\n",
              "\n",
              "    .dataframe thead th {\n",
              "        text-align: right;\n",
              "    }\n",
              "</style>\n",
              "<table border=\"1\" class=\"dataframe\">\n",
              "  <thead>\n",
              "    <tr style=\"text-align: right;\">\n",
              "      <th></th>\n",
              "      <th>petal length (cm)</th>\n",
              "      <th>petal width (cm)</th>\n",
              "    </tr>\n",
              "  </thead>\n",
              "  <tbody>\n",
              "    <tr>\n",
              "      <th>0</th>\n",
              "      <td>-2.358</td>\n",
              "      <td>-0.999333</td>\n",
              "    </tr>\n",
              "    <tr>\n",
              "      <th>1</th>\n",
              "      <td>-2.358</td>\n",
              "      <td>-0.999333</td>\n",
              "    </tr>\n",
              "    <tr>\n",
              "      <th>2</th>\n",
              "      <td>-2.458</td>\n",
              "      <td>-0.999333</td>\n",
              "    </tr>\n",
              "    <tr>\n",
              "      <th>3</th>\n",
              "      <td>-2.258</td>\n",
              "      <td>-0.999333</td>\n",
              "    </tr>\n",
              "    <tr>\n",
              "      <th>4</th>\n",
              "      <td>-2.358</td>\n",
              "      <td>-0.999333</td>\n",
              "    </tr>\n",
              "  </tbody>\n",
              "</table>\n",
              "</div>"
            ],
            "text/plain": [
              "   petal length (cm)  petal width (cm)\n",
              "0             -2.358         -0.999333\n",
              "1             -2.358         -0.999333\n",
              "2             -2.458         -0.999333\n",
              "3             -2.258         -0.999333\n",
              "4             -2.358         -0.999333"
            ]
          },
          "metadata": {
            "tags": []
          },
          "execution_count": 76
        }
      ]
    },
    {
      "cell_type": "markdown",
      "metadata": {
        "id": "dQkhppv1fGC6",
        "colab_type": "text"
      },
      "source": [
        "**2) Compute the covariance matrix and use eigenvalue decomposition to obtain the eigenvectors and eigenvalues.** \n",
        "\n",
        "We won't cover the math behind this procedure. However, [it can be shown](https://en.wikipedia.org/wiki/Principal_component_analysis#First_component) that the principal component directions are given by the eigenvectors of the matrix, and the magnitudes of the components are given by the eigenvalues. \n",
        "\n",
        "Most of the available algorithms to do PCA use [singular value decomposition](https://en.wikipedia.org/wiki/Singular_value_decomposition) instead for computational efficiency. But regardless of the algorithm the objective is still the same: compute the eigenvectors and eigenvalues from the covariance matrix."
      ]
    },
    {
      "cell_type": "code",
      "metadata": {
        "id": "8A0457ZUfGC7",
        "colab_type": "code",
        "colab": {
          "base_uri": "https://localhost:8080/",
          "height": 70
        },
        "outputId": "184b65e9-be4b-4fa3-be7a-ec07ac627e57"
      },
      "source": [
        "cov_mat = np.cov(df_centered.transpose())\n",
        "print('Covariance matrix \\n', cov_mat)"
      ],
      "execution_count": 77,
      "outputs": [
        {
          "output_type": "stream",
          "text": [
            "Covariance matrix \n",
            " [[3.11627785 1.2956094 ]\n",
            " [1.2956094  0.58100626]]\n"
          ],
          "name": "stdout"
        }
      ]
    },
    {
      "cell_type": "markdown",
      "metadata": {
        "id": "ExKvS5-KfGC_",
        "colab_type": "text"
      },
      "source": [
        "Next, we'll compute the eigensystem."
      ]
    },
    {
      "cell_type": "code",
      "metadata": {
        "id": "SsAWS_gUfGDA",
        "colab_type": "code",
        "colab": {
          "base_uri": "https://localhost:8080/",
          "height": 123
        },
        "outputId": "319c1b73-7ef8-46e7-a865-ca20e93cc8af"
      },
      "source": [
        "eig_vals, eig_vecs = np.linalg.eig(cov_mat)\n",
        "\n",
        "print('Eigenvectors\\n', eig_vecs)\n",
        "print('\\nEigenvalues\\n', eig_vals)"
      ],
      "execution_count": 78,
      "outputs": [
        {
          "output_type": "stream",
          "text": [
            "Eigenvectors\n",
            " [[ 0.92177769 -0.38771882]\n",
            " [ 0.38771882  0.92177769]]\n",
            "\n",
            "Eigenvalues\n",
            " [3.66123805 0.03604607]\n"
          ],
          "name": "stdout"
        }
      ]
    },
    {
      "cell_type": "markdown",
      "metadata": {
        "id": "tY_QUkdUfGDF",
        "colab_type": "text"
      },
      "source": [
        "We can plot the eigenvectors on top of our data to get a sense of how these principal components can capture the variation in the data."
      ]
    },
    {
      "cell_type": "code",
      "metadata": {
        "id": "7pez2_QLfGDF",
        "colab_type": "code",
        "colab": {
          "base_uri": "https://localhost:8080/",
          "height": 303
        },
        "outputId": "fd094b35-1ed9-46e1-8182-8cf7cadee415"
      },
      "source": [
        "# Plot Petal length vs petal width only\n",
        "for key, group in df_iris.groupby(['species']):\n",
        "    plt.plot(group['petal length (cm)'], group['petal width (cm)'],\n",
        "               label=key, marker='o', linestyle='none')\n",
        "\n",
        "# Add the mean value to the plot\n",
        "plt.plot(m[0], m[1], marker='*', color='black', markersize=15)\n",
        "\n",
        "# Add arrows showing the eigenvectors\n",
        "plt.quiver([m[0]]*2, [m[1]]*2, eig_vecs[:,1], eig_vecs[:,0], zorder=11, \n",
        "           width=0.01, scale=3)\n",
        "    \n",
        "# Tidy up plot\n",
        "plt.legend(loc=0, fontsize=15)\n",
        "plt.margins(0.02)\n",
        "plt.xlabel('petal length (cm)')\n",
        "plt.ylabel('petal width (cm)')\n",
        "plt.title('Iris data with principal components');"
      ],
      "execution_count": 79,
      "outputs": [
        {
          "output_type": "display_data",
          "data": {
            "image/png": "[encoded data removed]",
            "text/plain": [
              "<Figure size 432x288 with 1 Axes>"
            ]
          },
          "metadata": {
            "tags": []
          }
        }
      ]
    },
    {
      "cell_type": "markdown",
      "metadata": {
        "id": "mtNdIfGBfGDJ",
        "colab_type": "text"
      },
      "source": [
        "**3) Select the $k$ largest eigenvalues and their associated eigenvectors.**\n",
        "\n",
        "As [Sebastian Raschka](http://sebastianraschka.com/index.html) points out in his explanation of PCA:\n",
        "\n",
        ">*The eigenvectors (principal components) determine the directions of the new feature space, and the eigenvalues determine their magnitude. In other words, the eigenvalues explain the variance of the data along the new feature axes*.\n",
        "\n",
        "We chose this pair of measurements originally because there was a clear correlation between them. This is indeed confirmed by the relative magnitudes of the *eigenvalues* where one of them is two orders of magnitude larger than the other. Clearly, describing this data with two axes, rather than one, does not add much additional information. Also, we know which eigenvector to take: the one with the largest eigenvalue.\n",
        "\n",
        "[Lior Pachter's great blog post on PCA](https://liorpachter.wordpress.com/2014/05/26/what-is-principal-component-analysis/), which we will discuss more later, explains this 2-D to 1-D case by thinking of the projection as a triangle. Let's say we want to project a single data point onto the first principal component. The centroid (fixed) and the data point (also fixed) form a triangle with the the transformed data point (an orthogonal projection onto the first principal component). \n",
        "\n",
        "The hypotenuse of the triangle (the distance from the centroid to the data point) is fixed, so the other two sides must change together (by the Pythagorean Theorem). The first principal component has a minimal orthogonal distance to all the data points. So the side of the triangle between the data point and the transformed data point is as small as possible. This means the distance between the centroid and the transformed point is as large as possible (though still smaller than the original distance between the data point and the centroid)! \n",
        "\n",
        "This is what we mean when we say that using PCA to project the data into fewer dimensions maximizes the sample variation (i.e. their distances from each other after they've been transformed), despite some information being lost.\n",
        "\n",
        "Luckily, we can quantify about how much information is lost. As the eigenvalues are a relative measure of the data variance along the associated eigenvector (i.e. the \"new feature axis\"), we can use them to quantify how much of the variance is explained by our $k$ dimensions, which could be a useful way to decide what $k$ should even be in the first place. In this case, we want to know how much of the 2-D spread is described by our 1-D simplification."
      ]
    },
    {
      "cell_type": "code",
      "metadata": {
        "id": "nLqiClmpfGDK",
        "colab_type": "code",
        "colab": {
          "base_uri": "https://localhost:8080/",
          "height": 87
        },
        "outputId": "47c3c5bc-2e6e-4998-c31e-2c6973842ef7"
      },
      "source": [
        "# Compute how much variance is explained by each principal component\n",
        "print(\"\"\"\n",
        "PCA 1: {0:.2f}% of the variance\n",
        "PCA 2:  {1:.2f}% of the variance\n",
        "\"\"\".format(*tuple(eig_vals / np.sum(eig_vals) * 100)))"
      ],
      "execution_count": 80,
      "outputs": [
        {
          "output_type": "stream",
          "text": [
            "\n",
            "PCA 1: 99.03% of the variance\n",
            "PCA 2:  0.97% of the variance\n",
            "\n"
          ],
          "name": "stdout"
        }
      ]
    },
    {
      "cell_type": "markdown",
      "metadata": {
        "id": "IsbdqJkNfGDN",
        "colab_type": "text"
      },
      "source": [
        "**4) Transform the data into a $k$ dimensional subspace using those $k$ eigenvectors.**\n",
        "\n",
        "To actually project our data into this new dimension, we have to multiply our data by the so-called projection matrix, which is the fancy name for concatenating the top $k$ eigenvectors together. Then, the dot product of the data with the projection matrix \"projects\" the data onto our new axis.\n",
        "\n",
        "Since in this simple example we are projecting into a 1D space, we just have to matrix multiply our data by the eigenvector with the largest corresponding eigenvalue."
      ]
    },
    {
      "cell_type": "code",
      "metadata": {
        "id": "5aonqE92fGDO",
        "colab_type": "code",
        "colab": {
          "base_uri": "https://localhost:8080/",
          "height": 197
        },
        "outputId": "e78faa0c-206f-476c-c61b-fdac9b8e0b40"
      },
      "source": [
        "# Project data to our 1D space\n",
        "df_1D = pd.DataFrame(np.dot(df_iris.loc[:,['petal length (cm)',\n",
        "                                           'petal width (cm)']], eig_vecs[:,0]),\n",
        "                     columns=['projection'])\n",
        "\n",
        "# Add back the species column\n",
        "df_1D['species'] = df_iris['species']\n",
        "df_1D.head()"
      ],
      "execution_count": 81,
      "outputs": [
        {
          "output_type": "execute_result",
          "data": {
            "text/html": [
              "<div>\n",
              "<style scoped>\n",
              "    .dataframe tbody tr th:only-of-type {\n",
              "        vertical-align: middle;\n",
              "    }\n",
              "\n",
              "    .dataframe tbody tr th {\n",
              "        vertical-align: top;\n",
              "    }\n",
              "\n",
              "    .dataframe thead th {\n",
              "        text-align: right;\n",
              "    }\n",
              "</style>\n",
              "<table border=\"1\" class=\"dataframe\">\n",
              "  <thead>\n",
              "    <tr style=\"text-align: right;\">\n",
              "      <th></th>\n",
              "      <th>projection</th>\n",
              "      <th>species</th>\n",
              "    </tr>\n",
              "  </thead>\n",
              "  <tbody>\n",
              "    <tr>\n",
              "      <th>0</th>\n",
              "      <td>1.368033</td>\n",
              "      <td>setosa</td>\n",
              "    </tr>\n",
              "    <tr>\n",
              "      <th>1</th>\n",
              "      <td>1.368033</td>\n",
              "      <td>setosa</td>\n",
              "    </tr>\n",
              "    <tr>\n",
              "      <th>2</th>\n",
              "      <td>1.275855</td>\n",
              "      <td>setosa</td>\n",
              "    </tr>\n",
              "    <tr>\n",
              "      <th>3</th>\n",
              "      <td>1.460210</td>\n",
              "      <td>setosa</td>\n",
              "    </tr>\n",
              "    <tr>\n",
              "      <th>4</th>\n",
              "      <td>1.368033</td>\n",
              "      <td>setosa</td>\n",
              "    </tr>\n",
              "  </tbody>\n",
              "</table>\n",
              "</div>"
            ],
            "text/plain": [
              "   projection species\n",
              "0    1.368033  setosa\n",
              "1    1.368033  setosa\n",
              "2    1.275855  setosa\n",
              "3    1.460210  setosa\n",
              "4    1.368033  setosa"
            ]
          },
          "metadata": {
            "tags": []
          },
          "execution_count": 81
        }
      ]
    },
    {
      "cell_type": "markdown",
      "metadata": {
        "id": "j9G7qq89fGDR",
        "colab_type": "text"
      },
      "source": [
        "Now we can plot our data in 1D only while maintaining ≈98% percent of the variability in the data!"
      ]
    },
    {
      "cell_type": "code",
      "metadata": {
        "id": "fUEwkMXVfGDS",
        "colab_type": "code",
        "colab": {
          "base_uri": "https://localhost:8080/",
          "height": 303
        },
        "outputId": "4b468da8-5d48-4d44-f754-c2815cbfe8cc"
      },
      "source": [
        "for key, group in df_1D.groupby(['species']):\n",
        "    plt.plot(group['projection'], np.zeros_like(group['projection']), alpha=0.4, \n",
        "             label=key, marker='o', linestyle='none')\n",
        "\n",
        "plt.margins(0.05)\n",
        "plt.xlabel('PCA 1')\n",
        "plt.legend(np.array(['setosa', 'versicolor','virginica']))\n",
        "plt.title('Projection of petal length v. petal width onto one axis');"
      ],
      "execution_count": 82,
      "outputs": [
        {
          "output_type": "display_data",
          "data": {
            "image/png": "[encoded data removed]",
            "text/plain": [
              "<Figure size 432x288 with 1 Axes>"
            ]
          },
          "metadata": {
            "tags": []
          }
        }
      ]
    },
    {
      "cell_type": "markdown",
      "metadata": {
        "id": "QnlkvJpZfGDV",
        "colab_type": "text"
      },
      "source": [
        "Exciting! We were able to project 2-D data onto a 1-D axis, and still have a sense of how these various iris species differ. Note that while the new dimension has numerical values, its interpretation is a bit fuzzy. It's in fact a weighted combination of *petal length* and *petal width*, but this doesn't necessarily tell us anything new about biology, except that these two variables are related and potentially very different in various iris species. However, we might have known this by computing their covariance."
      ]
    },
    {
      "cell_type": "markdown",
      "metadata": {
        "id": "eDM4DYjNfGDW",
        "colab_type": "text"
      },
      "source": [
        "### `Scikit-learn` shortcut\n",
        "\n",
        "Now that we explored step-by-step how to do PCA, we can use `scikit-learn` to do it in a single line.  For this, we will take all 4 dimensions of the original dataset (petal length, petal width, sepal length, and sepal width) and explore how much variability is explained by each of the resulting principal components.\n",
        "\n",
        "`Scikit-learn` utilizes Python's object orientation. An object is first instantiated by the user, and has various variables (i.e. class and instance variables) and methods (i.e. functions) you can access (more definitions [here](https://www.tutorialspoint.com/python/python_classes_objects.htm)). We first instantiate a `sklearn.decomposition.PCA` object, and the use the `fit()` method to get PCA on our data.  The attributes of the `PCA` instance that end in underscores are the computed values."
      ]
    },
    {
      "cell_type": "code",
      "metadata": {
        "id": "loNcYKKyfGDX",
        "colab_type": "code",
        "colab": {
          "base_uri": "https://localhost:8080/",
          "height": 52
        },
        "outputId": "89888e3a-c0ce-430b-a83f-e2d5337ff676"
      },
      "source": [
        "# Instantiate the PCA object\n",
        "sklearn_pca = sklearn.decomposition.PCA()\n",
        "\n",
        "# Pass the data to the fit method\n",
        "sklearn_pca.fit(df_iris[iris.feature_names])\n",
        "\n",
        "# Print the variance explained\n",
        "print('Variance percent explained\\n', sklearn_pca.explained_variance_ratio_)"
      ],
      "execution_count": 83,
      "outputs": [
        {
          "output_type": "stream",
          "text": [
            "Variance percent explained\n",
            " [0.92461872 0.05306648 0.01710261 0.00521218]\n"
          ],
          "name": "stdout"
        }
      ]
    },
    {
      "cell_type": "markdown",
      "metadata": {
        "id": "wbAWa5PAfGDb",
        "colab_type": "text"
      },
      "source": [
        "We can see that the first component captures 92% of the variability in the data! We can now easily project our 4-D dataset into any $k$ dimensional space we would like. Since we've already seen a 0-D and 1-D reduction, let's look at the data in 2-D space."
      ]
    },
    {
      "cell_type": "code",
      "metadata": {
        "id": "t1ulZfhkfGDc",
        "colab_type": "code",
        "colab": {
          "base_uri": "https://localhost:8080/",
          "height": 197
        },
        "outputId": "29ca4da8-c165-4622-958a-261ab60a9593"
      },
      "source": [
        "# Perform the PCA again retaining only the top 2 components\n",
        "sklearn_pca = sklearn.decomposition.PCA(n_components=2)\n",
        "sklearn_pca.fit(df_iris[iris.feature_names])\n",
        "\n",
        "# Project the data into this 2D space and convert it back to a tidy dataframe\n",
        "df_2D = pd.DataFrame(sklearn_pca.transform(df_iris[iris.feature_names]),\n",
        "                     columns=['PCA1', 'PCA2'])\n",
        "\n",
        "# Create a column for species name\n",
        "df_2D['species'] = df_iris['species']\n",
        "\n",
        "# Look at the result\n",
        "df_2D.head()"
      ],
      "execution_count": 84,
      "outputs": [
        {
          "output_type": "execute_result",
          "data": {
            "text/html": [
              "<div>\n",
              "<style scoped>\n",
              "    .dataframe tbody tr th:only-of-type {\n",
              "        vertical-align: middle;\n",
              "    }\n",
              "\n",
              "    .dataframe tbody tr th {\n",
              "        vertical-align: top;\n",
              "    }\n",
              "\n",
              "    .dataframe thead th {\n",
              "        text-align: right;\n",
              "    }\n",
              "</style>\n",
              "<table border=\"1\" class=\"dataframe\">\n",
              "  <thead>\n",
              "    <tr style=\"text-align: right;\">\n",
              "      <th></th>\n",
              "      <th>PCA1</th>\n",
              "      <th>PCA2</th>\n",
              "      <th>species</th>\n",
              "    </tr>\n",
              "  </thead>\n",
              "  <tbody>\n",
              "    <tr>\n",
              "      <th>0</th>\n",
              "      <td>-2.684126</td>\n",
              "      <td>0.319397</td>\n",
              "      <td>setosa</td>\n",
              "    </tr>\n",
              "    <tr>\n",
              "      <th>1</th>\n",
              "      <td>-2.714142</td>\n",
              "      <td>-0.177001</td>\n",
              "      <td>setosa</td>\n",
              "    </tr>\n",
              "    <tr>\n",
              "      <th>2</th>\n",
              "      <td>-2.888991</td>\n",
              "      <td>-0.144949</td>\n",
              "      <td>setosa</td>\n",
              "    </tr>\n",
              "    <tr>\n",
              "      <th>3</th>\n",
              "      <td>-2.745343</td>\n",
              "      <td>-0.318299</td>\n",
              "      <td>setosa</td>\n",
              "    </tr>\n",
              "    <tr>\n",
              "      <th>4</th>\n",
              "      <td>-2.728717</td>\n",
              "      <td>0.326755</td>\n",
              "      <td>setosa</td>\n",
              "    </tr>\n",
              "  </tbody>\n",
              "</table>\n",
              "</div>"
            ],
            "text/plain": [
              "       PCA1      PCA2 species\n",
              "0 -2.684126  0.319397  setosa\n",
              "1 -2.714142 -0.177001  setosa\n",
              "2 -2.888991 -0.144949  setosa\n",
              "3 -2.745343 -0.318299  setosa\n",
              "4 -2.728717  0.326755  setosa"
            ]
          },
          "metadata": {
            "tags": []
          },
          "execution_count": 84
        }
      ]
    },
    {
      "cell_type": "markdown",
      "metadata": {
        "id": "qeoVwS09fGDf",
        "colab_type": "text"
      },
      "source": [
        "Now we can plot our original 4-D data onto a 2-D space that retains nearly 93% of the variability."
      ]
    },
    {
      "cell_type": "code",
      "metadata": {
        "id": "XUx1rWaUfGDg",
        "colab_type": "code",
        "colab": {
          "base_uri": "https://localhost:8080/",
          "height": 288
        },
        "outputId": "63692ad0-133d-4db7-f5ff-9b9d31510c9f"
      },
      "source": [
        "for key, group in df_2D.groupby(['species']):\n",
        "    plt.plot(group.PCA1, group.PCA2, 'o', alpha=0.7, label=key)\n",
        "\n",
        "# Tidy up plot\n",
        "plt.legend(loc=0)\n",
        "plt.margins(0.05)\n",
        "plt.xlabel('PCA 1')\n",
        "plt.ylabel('PCA 2');"
      ],
      "execution_count": 85,
      "outputs": [
        {
          "output_type": "display_data",
          "data": {
            "image/png": "[encoded data removed]",
            "text/plain": [
              "<Figure size 432x288 with 1 Axes>"
            ]
          },
          "metadata": {
            "tags": []
          }
        }
      ]
    },
    {
      "cell_type": "markdown",
      "metadata": {
        "id": "n8CbnDiYfGDk",
        "colab_type": "text"
      },
      "source": [
        "Interesting! This single plot summarizes what we intuited from looking at *all* the dimensions with our pairwise plot. The species are relatively distinct, with *versicolor* and *viriginica* being more similar to each other than to *setosa*. Also, the second axis doesn't add much additional information; for the most part, it seems to capture the variation within species, rather than something that makes these flowers phenotypically distinct."
      ]
    },
    {
      "cell_type": "markdown",
      "metadata": {
        "id": "mrPKw4YOfGDl",
        "colab_type": "text"
      },
      "source": [
        "## Summary\n",
        "\n",
        "So what have we learned by doing this analysis?"
      ]
    },
    {
      "cell_type": "markdown",
      "metadata": {
        "id": "wgYTzYaLfGDm",
        "colab_type": "text"
      },
      "source": [
        "#### We can implement PCA in Python.\n",
        "\n",
        "Methodologically, there are two ways to do it: approaches from linear algebra, or with `scikit-learn`.\n",
        "\n",
        "Practically, PCA takes a $p$ dimensional dataset as input and outputs two things that might interest us: \n",
        "* a transformed dataset in $k$ dimensions and \n",
        "* a set of eigenvectors and associated eigenvectors that indicate the \"percent variance\" explained. \n",
        "\n",
        "Here, the transformed dataset was our endpoint, since we were satisfied to think about high-dimensional differences as a 1 or 2-D distances. But can we learn something about data from the way we transformed it? Is it more than a visual heuristic? Is a plot my only reward for all this adventurous math?"
      ]
    },
    {
      "cell_type": "markdown",
      "metadata": {
        "id": "RnD-geZIfGDn",
        "colab_type": "text"
      },
      "source": [
        "#### PCA doesn't necessarily provide statistical information or a useful metric. But it will make your data easier to look at.\n",
        "\n",
        "Even if, as in the case of the iris data, we had a single principal component that described most of the variation, it is not necessarily wise to use that as a mathematical or statistical model for the data. In fact, we may know beforehand that we do not expect to predict the data with purely linear relationships. What's more, as the weights of the principal components do not necessarily represent physical quantities, such models can be hard to verify with pre-existing data. See an internet rant about [\"Unprincipled Component Analysis\"](http://www.win-vector.com/blog/2014/02/unprincipled-component-analysis/) for more information.\n",
        "\n",
        "Also note that PCA is not scale invariant; you can easily imagine that if we analyzed the same measurements, but in different units, the eigenvector weights would be very different! Moreover, a dimension varying from 0.1 to 0.2 might be considered much less significant than a dimension varying from 100 to 200. So any implementation of PCA includes a somewhat subjective choice of scale, though [scale-invariant methods](http://uhra.herts.ac.uk/bitstream/handle/2299/715/S56.pdf) do exist.\n",
        "\n",
        "To capture the confusion around the true usefulness of PCA in data analysis, Lior Pachter collected these quotations in his [blog post on PCA](https://liorpachter.wordpress.com/2014/05/26/what-is-principal-component-analysis/) (all emphasis ours):\n",
        "* \"PCA **is not a statistical method** to infer parameters or test hypotheses. Instead, it provides a method to reduce a complex dataset to lower dimension to reveal sometimes hidden, simplified structure that often underlie it.\"\n",
        "* \"PCA **is a statistical method** routinely used to analyze interrelationships among large numbers of objects.\"\n",
        "* PCA is \"more useful as **a visualization technique** than as an analytical method.\"\n",
        "* PCA is a \"mathematical algorithm that reduces the dimensionality of the data while **retaining most of the variation** in the data set.\"\n",
        "\n",
        "However, as we might intuit, the eigenvalues and eigenvectors do contain some statistical information. Pachter talks about other approaches to using PCA, which are more interested in the new dimensions onto which the data is projected, rather than the projected data itself. For example, the new dimensions define an \"affine subspace closest to a set of points.\" In 0-D, this is the centroid, or the single point closest to all the data points. In 1-D, when we collapse the data onto a single line, that line is the \"average line\" at a minimal _orthogonal_ distance from all the data.\n",
        "\n",
        "If that last part sounds a bit like least squares regression, it's because they are related! Pachter's second definition describes how probabilitistic PCA is \"a generalization of linear regression in which Gaussian noise is isotropic.\" We showed in class that a least squares regression is equivalent to maximizing the likelihood, if we assume Gaussian distributed errors in the dependent variable. (Note that this minimizes the _vertical_ distince between the data and the line.) However, for biological processes, we often expect noise in the independent **and** dependent variables. Our \"affine subspace,\" or the dimension onto which we project our data, may describe data better than a linear regression, as it considers both sources of noise (more information [here](https://liorpachter.wordpress.com/2014/05/26/what-is-principal-component-analysis/))."
      ]
    },
    {
      "cell_type": "markdown",
      "metadata": {
        "collapsed": true,
        "id": "MudOMGJVfGDo",
        "colab_type": "text"
      },
      "source": [
        "#### PCA invokes certain assumptions, and so works well on specific datasets: similarly-scaled, high signal-to-noise ratio, with primarily linear relationships.\n",
        "\n",
        "As described above, to make good quantitative comparison of variation, we must have data where \"large\" and \"small\" variation occur on the same scale. Also, by stating that the largest-order variation is the most scientifically interesting, we assume that the signal to noise ratio is fairly high, such that the lower-order variation we remove will be noise, or at least less crucial to summarizing the data usefully.\n",
        "\n",
        "Other clustering approaches, which we will discuss in future auxiliary tutorials, may provide \"better\" ways to summarize high dimensional data. However, as we've learned throughout this course, the appropriateness of a technique depends on the question that you're asking. PCA will summarize the data without you specifying a structure beforehand, but doesn't necessarily categorize the data; other approaches, like k-means clustering, will return discrete clusters but require you to know something about the structure of the data beforehand, e.g. the number of clusters."
      ]
    },
    {
      "cell_type": "markdown",
      "metadata": {
        "id": "-_Uq1SV6fGDp",
        "colab_type": "text"
      },
      "source": [
        "## Using PCA to find the perfect human.\n",
        "\n",
        "Genomes are hard to interpret. And so are PCA plots. Lior Pachter makes both these points in an interesting [blog post](https://liorpachter.wordpress.com/2014/12/02/the-perfect-human-is-puerto-rican/), where he calculates who the perfect human being would be according to their genomic SNP profile.\n",
        "\n",
        "[SNPedia](http://www.snpedia.com/) is a database that contains a compilation of SNPs classified as *good* or *bad* according to some [GWAS](https://en.wikipedia.org/wiki/Genome-wide_association_study) criteria.\n",
        "Lior did the following:\n",
        "\n",
        "1. He created a \"perfect human\" *in silico* by setting the alleles at all SNPs so that they are \"good\".\n",
        "2. He then added the \"perfect human\" to a panel of genotyped individuals from across a variety of populations and performed **PCA** to reveal the location and population of origin of the individual that was closest to this hypothetical perfect human.\n",
        "\n",
        "We will use his data and repeat the analysis to find out who the perfect human being is and where is he/she from.  You can download the SNP table, as well as information about the subjects [here](../data/pachter.zip).\n",
        "\n",
        "We will load it into a `DataFrame` where each column heading refers to a SNP and each row is a given subject.  The index of the row is a string representing the subject (including `'perfect'`), and the column headings are the SNP IDs."
      ]
    },
    {
      "cell_type": "code",
      "metadata": {
        "id": "XZn65hzWfxIp",
        "colab_type": "code",
        "colab": {
          "base_uri": "https://localhost:8080/",
          "height": 212
        },
        "outputId": "8a76ddbd-c987-4ff6-9ed7-e1cc0d8dfd70"
      },
      "source": [
        "!wget http://bebi103.caltech.edu.s3-website-us-east-1.amazonaws.com/2016/data/pachter.zip"
      ],
      "execution_count": 86,
      "outputs": [
        {
          "output_type": "stream",
          "text": [
            "--2020-01-23 17:51:26--  http://bebi103.caltech.edu.s3-website-us-east-1.amazonaws.com/2016/data/pachter.zip\n",
            "Resolving bebi103.caltech.edu.s3-website-us-east-1.amazonaws.com (bebi103.caltech.edu.s3-website-us-east-1.amazonaws.com)... 52.217.40.243\n",
            "Connecting to bebi103.caltech.edu.s3-website-us-east-1.amazonaws.com (bebi103.caltech.edu.s3-website-us-east-1.amazonaws.com)|52.217.40.243|:80... connected.\n",
            "HTTP request sent, awaiting response... 200 OK\n",
            "Length: 758184 (740K) [application/zip]\n",
            "Saving to: ‘pachter.zip.2’\n",
            "\n",
            "\rpachter.zip.2         0%[                    ]       0  --.-KB/s               \rpachter.zip.2       100%[===================>] 740.41K  --.-KB/s    in 0.06s   \n",
            "\n",
            "2020-01-23 17:51:26 (11.2 MB/s) - ‘pachter.zip.2’ saved [758184/758184]\n",
            "\n"
          ],
          "name": "stdout"
        }
      ]
    },
    {
      "cell_type": "code",
      "metadata": {
        "id": "LYjweJXqf94z",
        "colab_type": "code",
        "colab": {
          "base_uri": "https://localhost:8080/",
          "height": 70
        },
        "outputId": "2ab3643a-0525-4885-9464-951c846ae55c"
      },
      "source": [
        "!unzip pachter.zip\n",
        "!mv pachter/* ."
      ],
      "execution_count": 87,
      "outputs": [
        {
          "output_type": "stream",
          "text": [
            "Archive:  pachter.zip\n",
            "  inflating: pachter/geno_table.txt  \n",
            "  inflating: pachter/integrated_call_samples_v3.20130502.ALL.panel  \n"
          ],
          "name": "stdout"
        }
      ]
    },
    {
      "cell_type": "code",
      "metadata": {
        "id": "9oAcYGgQfGDr",
        "colab_type": "code",
        "colab": {
          "base_uri": "https://localhost:8080/",
          "height": 246
        },
        "outputId": "38f8e8e0-3885-4c9f-e4a1-2e1527d7f2b1"
      },
      "source": [
        "# Read the SNP table\n",
        "df_snp = pd.read_csv('geno_table.txt', delimiter='\\t',\n",
        "                     index_col='snp_id').transpose()\n",
        "df_snp.head()"
      ],
      "execution_count": 88,
      "outputs": [
        {
          "output_type": "execute_result",
          "data": {
            "text/html": [
              "<div>\n",
              "<style scoped>\n",
              "    .dataframe tbody tr th:only-of-type {\n",
              "        vertical-align: middle;\n",
              "    }\n",
              "\n",
              "    .dataframe tbody tr th {\n",
              "        vertical-align: top;\n",
              "    }\n",
              "\n",
              "    .dataframe thead th {\n",
              "        text-align: right;\n",
              "    }\n",
              "</style>\n",
              "<table border=\"1\" class=\"dataframe\">\n",
              "  <thead>\n",
              "    <tr style=\"text-align: right;\">\n",
              "      <th>snp_id</th>\n",
              "      <th>rs307377</th>\n",
              "      <th>rs7366653</th>\n",
              "      <th>rs41307846</th>\n",
              "      <th>rs3753242</th>\n",
              "      <th>rs35082957</th>\n",
              "      <th>rs34154371</th>\n",
              "      <th>rs35426403</th>\n",
              "      <th>rs1143016</th>\n",
              "      <th>rs3890745</th>\n",
              "      <th>rs17472401</th>\n",
              "      <th>rs34248917</th>\n",
              "      <th>rs10489535</th>\n",
              "      <th>rs202191898</th>\n",
              "      <th>rs74315352</th>\n",
              "      <th>rs7520292</th>\n",
              "      <th>rs4908760</th>\n",
              "      <th>rs6688832</th>\n",
              "      <th>rs17368528</th>\n",
              "      <th>rs28730670</th>\n",
              "      <th>rs150726175</th>\n",
              "      <th>rs121908162</th>\n",
              "      <th>rs121908163</th>\n",
              "      <th>rs2003046</th>\n",
              "      <th>rs80356718</th>\n",
              "      <th>rs72550870</th>\n",
              "      <th>rs17036350</th>\n",
              "      <th>rs4846033</th>\n",
              "      <th>rs2274976</th>\n",
              "      <th>rs17375901</th>\n",
              "      <th>rs4846051</th>\n",
              "      <th>rs1801131</th>\n",
              "      <th>rs1801133</th>\n",
              "      <th>rs3737965</th>\n",
              "      <th>rs198358</th>\n",
              "      <th>rs5067</th>\n",
              "      <th>rs5065</th>\n",
              "      <th>rs5064</th>\n",
              "      <th>rs5063</th>\n",
              "      <th>rs121913554</th>\n",
              "      <th>rs138382758</th>\n",
              "      <th>...</th>\n",
              "      <th>rs76060075</th>\n",
              "      <th>rs1081004</th>\n",
              "      <th>rs78854695</th>\n",
              "      <th>rs1081003</th>\n",
              "      <th>rs28371706</th>\n",
              "      <th>rs76802407</th>\n",
              "      <th>rs29001678</th>\n",
              "      <th>rs1065852</th>\n",
              "      <th>rs28371696</th>\n",
              "      <th>rs769258</th>\n",
              "      <th>rs1080993</th>\n",
              "      <th>rs1080992</th>\n",
              "      <th>rs59099247</th>\n",
              "      <th>rs78047908</th>\n",
              "      <th>rs1080987</th>\n",
              "      <th>rs1080986</th>\n",
              "      <th>rs76210340</th>\n",
              "      <th>rs75471486</th>\n",
              "      <th>rs1080984</th>\n",
              "      <th>rs58188898</th>\n",
              "      <th>rs121965009</th>\n",
              "      <th>rs28940571</th>\n",
              "      <th>rs738409</th>\n",
              "      <th>rs6006460</th>\n",
              "      <th>rs16992796</th>\n",
              "      <th>rs6007413</th>\n",
              "      <th>rs121918186</th>\n",
              "      <th>rs1800206</th>\n",
              "      <th>rs4253778</th>\n",
              "      <th>rs11090865</th>\n",
              "      <th>rs6007897</th>\n",
              "      <th>rs9615362</th>\n",
              "      <th>rs9627183</th>\n",
              "      <th>rs28372448</th>\n",
              "      <th>rs121913039</th>\n",
              "      <th>rs121913037</th>\n",
              "      <th>rs5770917</th>\n",
              "      <th>rs6151429</th>\n",
              "      <th>rs743616</th>\n",
              "      <th>rs2071421</th>\n",
              "    </tr>\n",
              "  </thead>\n",
              "  <tbody>\n",
              "    <tr>\n",
              "      <th>perfect</th>\n",
              "      <td>0</td>\n",
              "      <td>0</td>\n",
              "      <td>0</td>\n",
              "      <td>0</td>\n",
              "      <td>0</td>\n",
              "      <td>0</td>\n",
              "      <td>0</td>\n",
              "      <td>0</td>\n",
              "      <td>2</td>\n",
              "      <td>0</td>\n",
              "      <td>0</td>\n",
              "      <td>0</td>\n",
              "      <td>0</td>\n",
              "      <td>0</td>\n",
              "      <td>2</td>\n",
              "      <td>1</td>\n",
              "      <td>0</td>\n",
              "      <td>0</td>\n",
              "      <td>0</td>\n",
              "      <td>0</td>\n",
              "      <td>0</td>\n",
              "      <td>0</td>\n",
              "      <td>2</td>\n",
              "      <td>0</td>\n",
              "      <td>0</td>\n",
              "      <td>0</td>\n",
              "      <td>2</td>\n",
              "      <td>0</td>\n",
              "      <td>0</td>\n",
              "      <td>2</td>\n",
              "      <td>2</td>\n",
              "      <td>0</td>\n",
              "      <td>0</td>\n",
              "      <td>2</td>\n",
              "      <td>2</td>\n",
              "      <td>2</td>\n",
              "      <td>0</td>\n",
              "      <td>0</td>\n",
              "      <td>0</td>\n",
              "      <td>0</td>\n",
              "      <td>...</td>\n",
              "      <td>0</td>\n",
              "      <td>0</td>\n",
              "      <td>0</td>\n",
              "      <td>0</td>\n",
              "      <td>0</td>\n",
              "      <td>2</td>\n",
              "      <td>0</td>\n",
              "      <td>0</td>\n",
              "      <td>0</td>\n",
              "      <td>0</td>\n",
              "      <td>0</td>\n",
              "      <td>0</td>\n",
              "      <td>0</td>\n",
              "      <td>0</td>\n",
              "      <td>0</td>\n",
              "      <td>2</td>\n",
              "      <td>0</td>\n",
              "      <td>0</td>\n",
              "      <td>0</td>\n",
              "      <td>0</td>\n",
              "      <td>0</td>\n",
              "      <td>0</td>\n",
              "      <td>0</td>\n",
              "      <td>2</td>\n",
              "      <td>0</td>\n",
              "      <td>0</td>\n",
              "      <td>0</td>\n",
              "      <td>0</td>\n",
              "      <td>0</td>\n",
              "      <td>0</td>\n",
              "      <td>0</td>\n",
              "      <td>0</td>\n",
              "      <td>0</td>\n",
              "      <td>0</td>\n",
              "      <td>0</td>\n",
              "      <td>0</td>\n",
              "      <td>0</td>\n",
              "      <td>0</td>\n",
              "      <td>0</td>\n",
              "      <td>0</td>\n",
              "    </tr>\n",
              "    <tr>\n",
              "      <th>HG00096</th>\n",
              "      <td>2</td>\n",
              "      <td>0</td>\n",
              "      <td>1</td>\n",
              "      <td>0</td>\n",
              "      <td>0</td>\n",
              "      <td>0</td>\n",
              "      <td>0</td>\n",
              "      <td>0</td>\n",
              "      <td>1</td>\n",
              "      <td>0</td>\n",
              "      <td>0</td>\n",
              "      <td>0</td>\n",
              "      <td>0</td>\n",
              "      <td>0</td>\n",
              "      <td>2</td>\n",
              "      <td>1</td>\n",
              "      <td>0</td>\n",
              "      <td>1</td>\n",
              "      <td>0</td>\n",
              "      <td>0</td>\n",
              "      <td>0</td>\n",
              "      <td>0</td>\n",
              "      <td>0</td>\n",
              "      <td>0</td>\n",
              "      <td>0</td>\n",
              "      <td>0</td>\n",
              "      <td>2</td>\n",
              "      <td>0</td>\n",
              "      <td>0</td>\n",
              "      <td>2</td>\n",
              "      <td>0</td>\n",
              "      <td>2</td>\n",
              "      <td>0</td>\n",
              "      <td>0</td>\n",
              "      <td>0</td>\n",
              "      <td>0</td>\n",
              "      <td>0</td>\n",
              "      <td>0</td>\n",
              "      <td>0</td>\n",
              "      <td>0</td>\n",
              "      <td>...</td>\n",
              "      <td>0</td>\n",
              "      <td>0</td>\n",
              "      <td>0</td>\n",
              "      <td>0</td>\n",
              "      <td>0</td>\n",
              "      <td>0</td>\n",
              "      <td>0</td>\n",
              "      <td>1</td>\n",
              "      <td>0</td>\n",
              "      <td>0</td>\n",
              "      <td>0</td>\n",
              "      <td>0</td>\n",
              "      <td>0</td>\n",
              "      <td>0</td>\n",
              "      <td>0</td>\n",
              "      <td>0</td>\n",
              "      <td>0</td>\n",
              "      <td>0</td>\n",
              "      <td>0</td>\n",
              "      <td>0</td>\n",
              "      <td>0</td>\n",
              "      <td>0</td>\n",
              "      <td>0</td>\n",
              "      <td>0</td>\n",
              "      <td>0</td>\n",
              "      <td>0</td>\n",
              "      <td>0</td>\n",
              "      <td>0</td>\n",
              "      <td>0</td>\n",
              "      <td>0</td>\n",
              "      <td>0</td>\n",
              "      <td>0</td>\n",
              "      <td>0</td>\n",
              "      <td>0</td>\n",
              "      <td>0</td>\n",
              "      <td>0</td>\n",
              "      <td>0</td>\n",
              "      <td>0</td>\n",
              "      <td>1</td>\n",
              "      <td>0</td>\n",
              "    </tr>\n",
              "    <tr>\n",
              "      <th>HG00097</th>\n",
              "      <td>2</td>\n",
              "      <td>0</td>\n",
              "      <td>0</td>\n",
              "      <td>0</td>\n",
              "      <td>0</td>\n",
              "      <td>0</td>\n",
              "      <td>0</td>\n",
              "      <td>0</td>\n",
              "      <td>1</td>\n",
              "      <td>0</td>\n",
              "      <td>0</td>\n",
              "      <td>0</td>\n",
              "      <td>0</td>\n",
              "      <td>0</td>\n",
              "      <td>2</td>\n",
              "      <td>2</td>\n",
              "      <td>1</td>\n",
              "      <td>0</td>\n",
              "      <td>0</td>\n",
              "      <td>0</td>\n",
              "      <td>0</td>\n",
              "      <td>0</td>\n",
              "      <td>0</td>\n",
              "      <td>0</td>\n",
              "      <td>0</td>\n",
              "      <td>0</td>\n",
              "      <td>2</td>\n",
              "      <td>0</td>\n",
              "      <td>0</td>\n",
              "      <td>2</td>\n",
              "      <td>0</td>\n",
              "      <td>1</td>\n",
              "      <td>0</td>\n",
              "      <td>0</td>\n",
              "      <td>0</td>\n",
              "      <td>0</td>\n",
              "      <td>0</td>\n",
              "      <td>0</td>\n",
              "      <td>0</td>\n",
              "      <td>0</td>\n",
              "      <td>...</td>\n",
              "      <td>0</td>\n",
              "      <td>0</td>\n",
              "      <td>0</td>\n",
              "      <td>1</td>\n",
              "      <td>0</td>\n",
              "      <td>0</td>\n",
              "      <td>0</td>\n",
              "      <td>1</td>\n",
              "      <td>0</td>\n",
              "      <td>0</td>\n",
              "      <td>0</td>\n",
              "      <td>0</td>\n",
              "      <td>0</td>\n",
              "      <td>0</td>\n",
              "      <td>0</td>\n",
              "      <td>0</td>\n",
              "      <td>0</td>\n",
              "      <td>0</td>\n",
              "      <td>0</td>\n",
              "      <td>0</td>\n",
              "      <td>0</td>\n",
              "      <td>0</td>\n",
              "      <td>1</td>\n",
              "      <td>0</td>\n",
              "      <td>0</td>\n",
              "      <td>0</td>\n",
              "      <td>0</td>\n",
              "      <td>0</td>\n",
              "      <td>0</td>\n",
              "      <td>0</td>\n",
              "      <td>0</td>\n",
              "      <td>0</td>\n",
              "      <td>0</td>\n",
              "      <td>0</td>\n",
              "      <td>0</td>\n",
              "      <td>0</td>\n",
              "      <td>0</td>\n",
              "      <td>0</td>\n",
              "      <td>2</td>\n",
              "      <td>0</td>\n",
              "    </tr>\n",
              "    <tr>\n",
              "      <th>HG00099</th>\n",
              "      <td>2</td>\n",
              "      <td>0</td>\n",
              "      <td>0</td>\n",
              "      <td>0</td>\n",
              "      <td>0</td>\n",
              "      <td>0</td>\n",
              "      <td>0</td>\n",
              "      <td>0</td>\n",
              "      <td>1</td>\n",
              "      <td>0</td>\n",
              "      <td>0</td>\n",
              "      <td>0</td>\n",
              "      <td>0</td>\n",
              "      <td>0</td>\n",
              "      <td>1</td>\n",
              "      <td>0</td>\n",
              "      <td>1</td>\n",
              "      <td>1</td>\n",
              "      <td>0</td>\n",
              "      <td>0</td>\n",
              "      <td>0</td>\n",
              "      <td>0</td>\n",
              "      <td>0</td>\n",
              "      <td>0</td>\n",
              "      <td>0</td>\n",
              "      <td>0</td>\n",
              "      <td>2</td>\n",
              "      <td>0</td>\n",
              "      <td>1</td>\n",
              "      <td>2</td>\n",
              "      <td>2</td>\n",
              "      <td>0</td>\n",
              "      <td>0</td>\n",
              "      <td>1</td>\n",
              "      <td>0</td>\n",
              "      <td>0</td>\n",
              "      <td>0</td>\n",
              "      <td>0</td>\n",
              "      <td>0</td>\n",
              "      <td>0</td>\n",
              "      <td>...</td>\n",
              "      <td>0</td>\n",
              "      <td>0</td>\n",
              "      <td>0</td>\n",
              "      <td>0</td>\n",
              "      <td>0</td>\n",
              "      <td>0</td>\n",
              "      <td>0</td>\n",
              "      <td>0</td>\n",
              "      <td>0</td>\n",
              "      <td>0</td>\n",
              "      <td>0</td>\n",
              "      <td>0</td>\n",
              "      <td>0</td>\n",
              "      <td>0</td>\n",
              "      <td>0</td>\n",
              "      <td>0</td>\n",
              "      <td>0</td>\n",
              "      <td>0</td>\n",
              "      <td>0</td>\n",
              "      <td>0</td>\n",
              "      <td>0</td>\n",
              "      <td>0</td>\n",
              "      <td>0</td>\n",
              "      <td>0</td>\n",
              "      <td>0</td>\n",
              "      <td>0</td>\n",
              "      <td>0</td>\n",
              "      <td>0</td>\n",
              "      <td>0</td>\n",
              "      <td>0</td>\n",
              "      <td>0</td>\n",
              "      <td>0</td>\n",
              "      <td>0</td>\n",
              "      <td>0</td>\n",
              "      <td>0</td>\n",
              "      <td>0</td>\n",
              "      <td>0</td>\n",
              "      <td>0</td>\n",
              "      <td>1</td>\n",
              "      <td>0</td>\n",
              "    </tr>\n",
              "    <tr>\n",
              "      <th>HG00100</th>\n",
              "      <td>2</td>\n",
              "      <td>0</td>\n",
              "      <td>0</td>\n",
              "      <td>0</td>\n",
              "      <td>0</td>\n",
              "      <td>0</td>\n",
              "      <td>0</td>\n",
              "      <td>0</td>\n",
              "      <td>1</td>\n",
              "      <td>0</td>\n",
              "      <td>1</td>\n",
              "      <td>0</td>\n",
              "      <td>0</td>\n",
              "      <td>0</td>\n",
              "      <td>1</td>\n",
              "      <td>2</td>\n",
              "      <td>0</td>\n",
              "      <td>0</td>\n",
              "      <td>0</td>\n",
              "      <td>0</td>\n",
              "      <td>0</td>\n",
              "      <td>0</td>\n",
              "      <td>0</td>\n",
              "      <td>0</td>\n",
              "      <td>0</td>\n",
              "      <td>0</td>\n",
              "      <td>2</td>\n",
              "      <td>0</td>\n",
              "      <td>0</td>\n",
              "      <td>2</td>\n",
              "      <td>0</td>\n",
              "      <td>1</td>\n",
              "      <td>0</td>\n",
              "      <td>0</td>\n",
              "      <td>0</td>\n",
              "      <td>0</td>\n",
              "      <td>0</td>\n",
              "      <td>0</td>\n",
              "      <td>0</td>\n",
              "      <td>0</td>\n",
              "      <td>...</td>\n",
              "      <td>0</td>\n",
              "      <td>0</td>\n",
              "      <td>0</td>\n",
              "      <td>0</td>\n",
              "      <td>0</td>\n",
              "      <td>0</td>\n",
              "      <td>0</td>\n",
              "      <td>1</td>\n",
              "      <td>0</td>\n",
              "      <td>0</td>\n",
              "      <td>0</td>\n",
              "      <td>0</td>\n",
              "      <td>0</td>\n",
              "      <td>0</td>\n",
              "      <td>0</td>\n",
              "      <td>0</td>\n",
              "      <td>0</td>\n",
              "      <td>0</td>\n",
              "      <td>0</td>\n",
              "      <td>0</td>\n",
              "      <td>0</td>\n",
              "      <td>0</td>\n",
              "      <td>0</td>\n",
              "      <td>0</td>\n",
              "      <td>0</td>\n",
              "      <td>0</td>\n",
              "      <td>0</td>\n",
              "      <td>1</td>\n",
              "      <td>0</td>\n",
              "      <td>0</td>\n",
              "      <td>0</td>\n",
              "      <td>0</td>\n",
              "      <td>1</td>\n",
              "      <td>0</td>\n",
              "      <td>0</td>\n",
              "      <td>0</td>\n",
              "      <td>0</td>\n",
              "      <td>0</td>\n",
              "      <td>1</td>\n",
              "      <td>0</td>\n",
              "    </tr>\n",
              "  </tbody>\n",
              "</table>\n",
              "<p>5 rows × 4967 columns</p>\n",
              "</div>"
            ],
            "text/plain": [
              "snp_id   rs307377  rs7366653  rs41307846  ...  rs6151429  rs743616  rs2071421\n",
              "perfect         0          0           0  ...          0         0          0\n",
              "HG00096         2          0           1  ...          0         1          0\n",
              "HG00097         2          0           0  ...          0         2          0\n",
              "HG00099         2          0           0  ...          0         1          0\n",
              "HG00100         2          0           0  ...          0         1          0\n",
              "\n",
              "[5 rows x 4967 columns]"
            ]
          },
          "metadata": {
            "tags": []
          },
          "execution_count": 88
        }
      ]
    },
    {
      "cell_type": "markdown",
      "metadata": {
        "id": "6ddtj7eCfGDu",
        "colab_type": "text"
      },
      "source": [
        "Because we will do PCA with these data, they should be floating point numbers instead of integers."
      ]
    },
    {
      "cell_type": "code",
      "metadata": {
        "id": "5DQR96OefGDv",
        "colab_type": "code",
        "colab": {}
      },
      "source": [
        "df_snp = df_snp.astype(np.float)"
      ],
      "execution_count": 0,
      "outputs": []
    },
    {
      "cell_type": "markdown",
      "metadata": {
        "id": "ah6rq6kWfGDx",
        "colab_type": "text"
      },
      "source": [
        "We also have data about each individual, such as where they are from.  The `integrated_call_samples_v3.20130502.ALL.panel` file is also included in the [ZIP file](../data/pachter.zip) containing the data."
      ]
    },
    {
      "cell_type": "code",
      "metadata": {
        "id": "1Zh9vS78fGDz",
        "colab_type": "code",
        "colab": {
          "base_uri": "https://localhost:8080/",
          "height": 227
        },
        "outputId": "bd92b8fd-6a7d-4b68-e187-d7be5e8b489f"
      },
      "source": [
        "# Read the description of each individual\n",
        "fname = 'integrated_call_samples_v3.20130502.ALL.panel'\n",
        "df_info = pd.read_csv(fname, delimiter='\\t', \n",
        "                      index_col=0).dropna(axis=1, how='all')\n",
        "df_info.head()"
      ],
      "execution_count": 90,
      "outputs": [
        {
          "output_type": "execute_result",
          "data": {
            "text/html": [
              "<div>\n",
              "<style scoped>\n",
              "    .dataframe tbody tr th:only-of-type {\n",
              "        vertical-align: middle;\n",
              "    }\n",
              "\n",
              "    .dataframe tbody tr th {\n",
              "        vertical-align: top;\n",
              "    }\n",
              "\n",
              "    .dataframe thead th {\n",
              "        text-align: right;\n",
              "    }\n",
              "</style>\n",
              "<table border=\"1\" class=\"dataframe\">\n",
              "  <thead>\n",
              "    <tr style=\"text-align: right;\">\n",
              "      <th></th>\n",
              "      <th>pop</th>\n",
              "      <th>super_pop</th>\n",
              "      <th>gender</th>\n",
              "    </tr>\n",
              "    <tr>\n",
              "      <th>sample</th>\n",
              "      <th></th>\n",
              "      <th></th>\n",
              "      <th></th>\n",
              "    </tr>\n",
              "  </thead>\n",
              "  <tbody>\n",
              "    <tr>\n",
              "      <th>HG00096</th>\n",
              "      <td>GBR</td>\n",
              "      <td>EUR</td>\n",
              "      <td>male</td>\n",
              "    </tr>\n",
              "    <tr>\n",
              "      <th>HG00097</th>\n",
              "      <td>GBR</td>\n",
              "      <td>EUR</td>\n",
              "      <td>female</td>\n",
              "    </tr>\n",
              "    <tr>\n",
              "      <th>HG00099</th>\n",
              "      <td>GBR</td>\n",
              "      <td>EUR</td>\n",
              "      <td>female</td>\n",
              "    </tr>\n",
              "    <tr>\n",
              "      <th>HG00100</th>\n",
              "      <td>GBR</td>\n",
              "      <td>EUR</td>\n",
              "      <td>female</td>\n",
              "    </tr>\n",
              "    <tr>\n",
              "      <th>HG00101</th>\n",
              "      <td>GBR</td>\n",
              "      <td>EUR</td>\n",
              "      <td>male</td>\n",
              "    </tr>\n",
              "  </tbody>\n",
              "</table>\n",
              "</div>"
            ],
            "text/plain": [
              "         pop super_pop  gender\n",
              "sample                        \n",
              "HG00096  GBR       EUR    male\n",
              "HG00097  GBR       EUR  female\n",
              "HG00099  GBR       EUR  female\n",
              "HG00100  GBR       EUR  female\n",
              "HG00101  GBR       EUR    male"
            ]
          },
          "metadata": {
            "tags": []
          },
          "execution_count": 90
        }
      ]
    },
    {
      "cell_type": "markdown",
      "metadata": {
        "id": "w9tnVp0GfGD1",
        "colab_type": "text"
      },
      "source": [
        "For convenience, we'll add this information to the SNP `DataFrame`."
      ]
    },
    {
      "cell_type": "code",
      "metadata": {
        "id": "7uJtVzUDfGD2",
        "colab_type": "code",
        "colab": {
          "base_uri": "https://localhost:8080/",
          "height": 197
        },
        "outputId": "b728ee6c-73d6-41f7-bb78-02c71a2d0aa1"
      },
      "source": [
        "# Add to the SNP dataframe the information about gender and super_pop\n",
        "aux_cols = ['pop', 'super_pop', 'gender']\n",
        "df_snp[aux_cols] = df_info\n",
        "\n",
        "# Change the super_pop column for the perfect human being\n",
        "df_snp.loc['perfect', ['pop', 'super_pop']] = ['Perfect Human']*2\n",
        "\n",
        "# Take a look at auxiliary columns\n",
        "df_snp[aux_cols].head()"
      ],
      "execution_count": 91,
      "outputs": [
        {
          "output_type": "execute_result",
          "data": {
            "text/html": [
              "<div>\n",
              "<style scoped>\n",
              "    .dataframe tbody tr th:only-of-type {\n",
              "        vertical-align: middle;\n",
              "    }\n",
              "\n",
              "    .dataframe tbody tr th {\n",
              "        vertical-align: top;\n",
              "    }\n",
              "\n",
              "    .dataframe thead th {\n",
              "        text-align: right;\n",
              "    }\n",
              "</style>\n",
              "<table border=\"1\" class=\"dataframe\">\n",
              "  <thead>\n",
              "    <tr style=\"text-align: right;\">\n",
              "      <th>snp_id</th>\n",
              "      <th>pop</th>\n",
              "      <th>super_pop</th>\n",
              "      <th>gender</th>\n",
              "    </tr>\n",
              "  </thead>\n",
              "  <tbody>\n",
              "    <tr>\n",
              "      <th>perfect</th>\n",
              "      <td>Perfect Human</td>\n",
              "      <td>Perfect Human</td>\n",
              "      <td>NaN</td>\n",
              "    </tr>\n",
              "    <tr>\n",
              "      <th>HG00096</th>\n",
              "      <td>GBR</td>\n",
              "      <td>EUR</td>\n",
              "      <td>male</td>\n",
              "    </tr>\n",
              "    <tr>\n",
              "      <th>HG00097</th>\n",
              "      <td>GBR</td>\n",
              "      <td>EUR</td>\n",
              "      <td>female</td>\n",
              "    </tr>\n",
              "    <tr>\n",
              "      <th>HG00099</th>\n",
              "      <td>GBR</td>\n",
              "      <td>EUR</td>\n",
              "      <td>female</td>\n",
              "    </tr>\n",
              "    <tr>\n",
              "      <th>HG00100</th>\n",
              "      <td>GBR</td>\n",
              "      <td>EUR</td>\n",
              "      <td>female</td>\n",
              "    </tr>\n",
              "  </tbody>\n",
              "</table>\n",
              "</div>"
            ],
            "text/plain": [
              "snp_id             pop      super_pop  gender\n",
              "perfect  Perfect Human  Perfect Human     NaN\n",
              "HG00096            GBR            EUR    male\n",
              "HG00097            GBR            EUR  female\n",
              "HG00099            GBR            EUR  female\n",
              "HG00100            GBR            EUR  female"
            ]
          },
          "metadata": {
            "tags": []
          },
          "execution_count": 91
        }
      ]
    },
    {
      "cell_type": "markdown",
      "metadata": {
        "id": "DqIA8fCCfGD4",
        "colab_type": "text"
      },
      "source": [
        "**A note about units:** Remember, as we discussed above, the subspaces that you obtain from performing PCA are not scale invariant. This means that, for example, if your dataset contains things measured in *nanometers* and things measured in *meters*, or even worse things measuring completely unrelated things, the units in which your measurement is stored would affect the PCA analysis.\n",
        "\n",
        "The simplest way to avoid this issue is to form a \"**common set of units**\" by standardizing your values such that they all have a common mean and variance (usually set to be zero and one respectively). Though still a somewhat subjective choice, this ensures that variance in each dimension happen on roughly the same scale.\n",
        "\n",
        "Fortunately, as in almost every case, `scikit-learn` can do the job for us. We will simply use the `StandardScaler` class from the `preprocessing` module of `scikit-learn` to fix this."
      ]
    },
    {
      "cell_type": "code",
      "metadata": {
        "id": "CCK4VuFxfGD5",
        "colab_type": "code",
        "colab": {
          "base_uri": "https://localhost:8080/",
          "height": 197
        },
        "outputId": "cd9d6f5e-104f-41dd-c85d-905a4727b57c"
      },
      "source": [
        "# Standardize the data before performing PCA\n",
        "# We use .drop to remove the gender and super_pop columns to avoid errors.\n",
        "df_snp_std = sklearn.preprocessing.StandardScaler().fit_transform(\n",
        "                            df_snp.drop(aux_cols, axis=1))\n",
        "\n",
        "# Perform the PCA and transform the data\n",
        "n_components = 5\n",
        "snp_pca = sklearn.decomposition.PCA(n_components=n_components)\n",
        "\n",
        "# Project the data into this 2D space\n",
        "snp_pca.fit(df_snp_std)\n",
        "df_snp_pca = snp_pca.transform(df_snp_std)\n",
        "\n",
        "# Convert back to a nice tidy dataframe\n",
        "df_snp_pca = pd.DataFrame(df_snp_pca, \n",
        "                columns=['PC' + str(x) for x in range(1, n_components+1)], \n",
        "                index=df_snp.index)\n",
        "\n",
        "# Add again the gender, pop, and super_pop columns\n",
        "df_snp_pca[aux_cols] = df_snp[aux_cols]\n",
        "df_snp_pca.head()"
      ],
      "execution_count": 92,
      "outputs": [
        {
          "output_type": "execute_result",
          "data": {
            "text/html": [
              "<div>\n",
              "<style scoped>\n",
              "    .dataframe tbody tr th:only-of-type {\n",
              "        vertical-align: middle;\n",
              "    }\n",
              "\n",
              "    .dataframe tbody tr th {\n",
              "        vertical-align: top;\n",
              "    }\n",
              "\n",
              "    .dataframe thead th {\n",
              "        text-align: right;\n",
              "    }\n",
              "</style>\n",
              "<table border=\"1\" class=\"dataframe\">\n",
              "  <thead>\n",
              "    <tr style=\"text-align: right;\">\n",
              "      <th></th>\n",
              "      <th>PC1</th>\n",
              "      <th>PC2</th>\n",
              "      <th>PC3</th>\n",
              "      <th>PC4</th>\n",
              "      <th>PC5</th>\n",
              "      <th>pop</th>\n",
              "      <th>super_pop</th>\n",
              "      <th>gender</th>\n",
              "    </tr>\n",
              "  </thead>\n",
              "  <tbody>\n",
              "    <tr>\n",
              "      <th>perfect</th>\n",
              "      <td>-2.221873</td>\n",
              "      <td>-13.823952</td>\n",
              "      <td>193.949874</td>\n",
              "      <td>26.727827</td>\n",
              "      <td>-2.302516</td>\n",
              "      <td>Perfect Human</td>\n",
              "      <td>Perfect Human</td>\n",
              "      <td>NaN</td>\n",
              "    </tr>\n",
              "    <tr>\n",
              "      <th>HG00096</th>\n",
              "      <td>-6.037516</td>\n",
              "      <td>-15.947683</td>\n",
              "      <td>0.535822</td>\n",
              "      <td>-3.397242</td>\n",
              "      <td>-3.557039</td>\n",
              "      <td>GBR</td>\n",
              "      <td>EUR</td>\n",
              "      <td>male</td>\n",
              "    </tr>\n",
              "    <tr>\n",
              "      <th>HG00097</th>\n",
              "      <td>-6.310191</td>\n",
              "      <td>-14.804931</td>\n",
              "      <td>1.029009</td>\n",
              "      <td>-13.751841</td>\n",
              "      <td>4.556677</td>\n",
              "      <td>GBR</td>\n",
              "      <td>EUR</td>\n",
              "      <td>female</td>\n",
              "    </tr>\n",
              "    <tr>\n",
              "      <th>HG00099</th>\n",
              "      <td>-7.102287</td>\n",
              "      <td>-15.820245</td>\n",
              "      <td>4.379395</td>\n",
              "      <td>-4.119878</td>\n",
              "      <td>-3.085048</td>\n",
              "      <td>GBR</td>\n",
              "      <td>EUR</td>\n",
              "      <td>female</td>\n",
              "    </tr>\n",
              "    <tr>\n",
              "      <th>HG00100</th>\n",
              "      <td>-6.006800</td>\n",
              "      <td>-17.297061</td>\n",
              "      <td>0.388331</td>\n",
              "      <td>-4.471314</td>\n",
              "      <td>-2.657358</td>\n",
              "      <td>GBR</td>\n",
              "      <td>EUR</td>\n",
              "      <td>female</td>\n",
              "    </tr>\n",
              "  </tbody>\n",
              "</table>\n",
              "</div>"
            ],
            "text/plain": [
              "              PC1        PC2         PC3  ...            pop      super_pop  gender\n",
              "perfect -2.221873 -13.823952  193.949874  ...  Perfect Human  Perfect Human     NaN\n",
              "HG00096 -6.037516 -15.947683    0.535822  ...            GBR            EUR    male\n",
              "HG00097 -6.310191 -14.804931    1.029009  ...            GBR            EUR  female\n",
              "HG00099 -7.102287 -15.820245    4.379395  ...            GBR            EUR  female\n",
              "HG00100 -6.006800 -17.297061    0.388331  ...            GBR            EUR  female\n",
              "\n",
              "[5 rows x 8 columns]"
            ]
          },
          "metadata": {
            "tags": []
          },
          "execution_count": 92
        }
      ]
    },
    {
      "cell_type": "markdown",
      "metadata": {
        "id": "jpuvdsHMfGD8",
        "colab_type": "text"
      },
      "source": [
        "Great! Now, we know that plotting our multi-dimensional data in 2-D will give us an idea of which points are similar and dissimilar. So, if we believe genetic fitness is entirely determined by the absence and presence of universally good and bad SNPs, we may be interested in which humans are closest to the \"perfect\" human created by Lior Pachter. (Shortly after, we may offer our services to Hydra.) We will find this out by plotting all the SNP profiles in 2-D space."
      ]
    },
    {
      "cell_type": "code",
      "metadata": {
        "id": "0QvGumzYfGD-",
        "colab_type": "code",
        "colab": {
          "base_uri": "https://localhost:8080/",
          "height": 570
        },
        "outputId": "f305923b-734f-434b-9abb-b8832c304ac3"
      },
      "source": [
        "# Plot all populations except the perfect human\n",
        "cols = ~df_snp_pca['super_pop'].isin(['Perfect Human'])\n",
        "df_gb = df_snp_pca[cols].groupby(['super_pop'])\n",
        "for key, group in df_gb:\n",
        "    plt.plot(group.PC1, group.PC2, 'o', alpha=0.5, label=key)\n",
        "\n",
        "# Add the perfect human being to the plot\n",
        "plt.plot(df_snp_pca.ix['perfect'].PC1, df_snp_pca.ix['perfect'].PC2, '*', \n",
        "         markersize=15, color='black', label=df_snp_pca.ix['perfect'].super_pop)\n",
        "\n",
        "# Tidy the plot.\n",
        "plt.margins(0.05)\n",
        "plt.legend(loc=0)\n",
        "plt.xlabel('PC 1')\n",
        "plt.ylabel('PC 2');"
      ],
      "execution_count": 93,
      "outputs": [
        {
          "output_type": "stream",
          "text": [
            "/usr/local/lib/python3.6/dist-packages/ipykernel_launcher.py:7: FutureWarning: \n",
            ".ix is deprecated. Please use\n",
            ".loc for label based indexing or\n",
            ".iloc for positional indexing\n",
            "\n",
            "See the documentation here:\n",
            "http://pandas.pydata.org/pandas-docs/stable/user_guide/indexing.html#ix-indexer-is-deprecated\n",
            "  import sys\n",
            "/usr/local/lib/python3.6/dist-packages/ipykernel_launcher.py:8: FutureWarning: \n",
            ".ix is deprecated. Please use\n",
            ".loc for label based indexing or\n",
            ".iloc for positional indexing\n",
            "\n",
            "See the documentation here:\n",
            "http://pandas.pydata.org/pandas-docs/stable/user_guide/indexing.html#ix-indexer-is-deprecated\n",
            "  \n"
          ],
          "name": "stderr"
        },
        {
          "output_type": "display_data",
          "data": {
            "image/png": "[encoded data removed]",
            "text/plain": [
              "<Figure size 432x288 with 1 Axes>"
            ]
          },
          "metadata": {
            "tags": []
          }
        }
      ]
    },
    {
      "cell_type": "markdown",
      "metadata": {
        "collapsed": true,
        "id": "R3XuGJdYfGEH",
        "colab_type": "text"
      },
      "source": [
        "The closest point to the perfect human being is patient [HG00737](https://catalog.coriell.org/0/Sections/Search/Sample_Detail.aspx?Ref=HG00737&PgId=166) a ***Puerto Rican woman***!\\**\n",
        "\n",
        "How confident are we that this plot indicates a Puerto Rican woman is the closest to being perfect? What if we considered additional axes?"
      ]
    },
    {
      "cell_type": "markdown",
      "metadata": {
        "id": "hj4KyN6SfGEN",
        "colab_type": "text"
      },
      "source": [
        "Wow! The perfect human is actually... not human. What happened here?\n",
        "\n",
        "We didn't check how much variance the first two axes explained; for the most part, we picked two dimensions because we publish papers in a two-dimensional format. It seems that there is a *significant* amount of variance explained by the third axis. In fact, it separates the \"perfect\" human from all other humans."
      ]
    },
    {
      "cell_type": "code",
      "metadata": {
        "id": "HcvSo0McfGEN",
        "colab_type": "code",
        "colab": {
          "base_uri": "https://localhost:8080/",
          "height": 52
        },
        "outputId": "bf14d658-78bf-4294-8c90-55c16eb4a482"
      },
      "source": [
        "print('Variance percent explained\\n', snp_pca.explained_variance_ratio_)"
      ],
      "execution_count": 94,
      "outputs": [
        {
          "output_type": "stream",
          "text": [
            "Variance percent explained\n",
            " [0.05660433 0.04227824 0.00728842 0.00597726 0.0054038 ]\n"
          ],
          "name": "stdout"
        }
      ]
    },
    {
      "cell_type": "markdown",
      "metadata": {
        "id": "RfLU7VH1fGEQ",
        "colab_type": "text"
      },
      "source": [
        "It seems our plot explains less than 10% of the variation. A 2-D plot is vastly oversimplified. Looking at the 3-D plot, we see how we fooled ourselves."
      ]
    },
    {
      "cell_type": "code",
      "metadata": {
        "id": "aLs1ZJjufGER",
        "colab_type": "code",
        "colab": {
          "base_uri": "https://localhost:8080/",
          "height": 463
        },
        "outputId": "63aef50d-dc16-4bd5-cd14-e48b25827630"
      },
      "source": [
        "fig = plt.figure(1, figsize=(8, 6))\n",
        "ax = mpl_toolkits.mplot3d.Axes3D(fig)\n",
        "for key, group in df_snp_pca.groupby(['super_pop']):\n",
        "    if key == 'Perfect Human':\n",
        "        ax.plot(group.PC1, group.PC2, group.PC3, 'k*', markersize=15,\n",
        "                label=key)\n",
        "    else:\n",
        "        ax.plot(group.PC1, group.PC2, group.PC3, 'o', alpha=0.7, label=key)\n",
        "\n",
        "ax.set_title(\"First three PC directions\")\n",
        "ax.set_xlabel(\"PC 1\")\n",
        "ax.set_ylabel(\"PC 2\")\n",
        "ax.set_zlabel(\"PC 3\")\n",
        "ax.legend(loc='upper left', fontsize=15);"
      ],
      "execution_count": 95,
      "outputs": [
        {
          "output_type": "display_data",
          "data": {
            "image/png": "[encoded data removed]",
            "text/plain": [
              "<Figure size 576x432 with 1 Axes>"
            ]
          },
          "metadata": {
            "tags": []
          }
        }
      ]
    },
    {
      "cell_type": "markdown",
      "metadata": {
        "id": "cfF_rPaKfGEU",
        "colab_type": "text"
      },
      "source": [
        "This is an important reminder that PCA removes some variance to help us focus on the largest (and presumably most important) variance. Here however, there was important information even in the \"lower\" order variation. By plotting in 2-D, we implicitly assumed that most of the structure of SNP variation is itself 2-D. Perhaps, for something very complex like genomes, we should expect many higher order interactions to be still be important to understanding the system.\n",
        "\n",
        "**A note on Pachter's analysis:** This blog post ended up being fairly controversial because it is so easy to (mis)interpret the 2-D PCA plot. Lior's original intent was to show that James Watson's racist ideas of having a perfect human being were completely wrong. Instead, however, most people took the sarcastic title seriously. Eventually, scientists from Puerto Rico, who collected the samples, [explained the actual results](http://www.oleksyk.com/why-there-cant-be-a-perfect-human-from-puerto-rico-or-anywhere-else/) for the people that only read Lior's title."
      ]
    },
    {
      "cell_type": "markdown",
      "metadata": {
        "id": "vcHdgUWTfGEU",
        "colab_type": "text"
      },
      "source": [
        "#### Footnotes*\n",
        "\\*Coincidentally, iris is the state cultivated flower of Tennessee, where I (Heidi) grew up, though the state [wildflower](https://en.wikipedia.org/wiki/Passiflora_incarnata) is much more exciting.  \n",
        "\n",
        "\\*\\*But we are sure that Lin-Manuel Miranda, a Puerto Rican man, is a close second. That man is [non-stop](https://www.youtube.com/watch?v=8aefuWGmKTY).  \n",
        "\n",
        "*(dedicated to Christina Su, the human version of GitHub, who restored the accidentally discarded first draft)*"
      ]
    }
  ]
}